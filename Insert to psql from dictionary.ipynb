{
 "cells": [
  {
   "cell_type": "code",
   "execution_count": 4,
   "metadata": {},
   "outputs": [],
   "source": [
    "import psycopg2\n",
    "\n",
    "password=''\n",
    "database=''\n",
    "\n",
    "def create_table_from_dict(table_name, dictionary, user='postgres', password=password, host=\"127.0.0.1\", port=\"5432\", database=database):\n",
    "    \n",
    "    rows = \",\".join(dictionary.keys())\n",
    "    values = [i for i in dictionary.values()]\n",
    "    args_number = \"\".join(len(dictionary) * '%s,')\n",
    "\n",
    "    try:\n",
    "        # connect\n",
    "        connection = psycopg2.connect(user=user, password=password, host=host, port=port, database=database)\n",
    "        cursor = connection.cursor()\n",
    "        \n",
    "        # select if table table exists\n",
    "        postgres_table_exist_query = \"\"\"SELECT EXISTS(\n",
    "        SELECT 1 \n",
    "        FROM information_schema.tables \n",
    "        WHERE table_schema = 'public' \n",
    "        AND table_name = '\"\"\" + table_name + \"\"\"');\"\"\"\n",
    "        cursor.execute(postgres_table_exist_query)\n",
    "        does_exists = cursor.fetchone()\n",
    "        \n",
    "        # create table if doesn't exist\n",
    "        if does_exists[0] == True:\n",
    "            pass\n",
    "        else:\n",
    "            postgres_create_table = \"\"\"CREATE TABLE \"\"\" + table_name + \"\"\"();\"\"\"\n",
    "            cursor.execute(postgres_create_table)\n",
    "            print(table_name, \", was created.\")\n",
    "             \n",
    "        # check for existing rows\n",
    "        postgres_select_query = \"\"\" SELECT column_name FROM information_schema.columns\n",
    "        WHERE table_schema = 'public' \n",
    "        AND table_name = '\"\"\" + table_name + \"\"\"';\"\"\"\n",
    "        cursor.execute(postgres_select_query)\n",
    "\n",
    "        selected_rows = cursor.fetchall()\n",
    "        rows_list = []\n",
    "        if len(selected_rows) == 0:\n",
    "            pass\n",
    "        else:      \n",
    "            for row in selected_rows:\n",
    "                rows_list.append(row[0])\n",
    "        \n",
    "        # rows to insert from dictionary keys\n",
    "        insertable_rows = rows.split(',')   \n",
    "        missing_rows = [item for item in insertable_rows if item.lower() not in rows_list]\n",
    "            \n",
    "        if len(missing_rows) == 0 :\n",
    "            \n",
    "            # inserting values from dictionary\n",
    "            postgres_insert_query = \"\"\" INSERT INTO \"\"\" + table_name + \"\"\" (\"\"\" + rows + \"\"\") VALUES (\"\"\" + args_number[:-1] + \"\"\")\"\"\"\n",
    "            cursor.execute(postgres_insert_query, values)\n",
    "            connection.commit()\n",
    "            count = cursor.rowcount\n",
    "            print (count, \"Record inserted successfully into table\")          \n",
    "            \n",
    "        else: \n",
    "            \n",
    "            # inserting missing keys from dictionary\n",
    "            for row in missing_rows:\n",
    "                postgres_create_rows_query = \"\"\" ALTER TABLE \"\"\" + table_name + \"\"\"\n",
    "                ADD \"\"\" + row + \"\"\" varchar(255);\"\"\"\n",
    "                cursor.execute(postgres_create_rows_query)\n",
    "            print(\"Missing row('s):\", missing_rows, \"inserted\")\n",
    "            \n",
    "            # inserting values from dictionary\n",
    "            postgres_insert_query = \"\"\" INSERT INTO \"\"\" + table_name + \"\"\" (\"\"\" + rows + \"\"\") VALUES (\"\"\" + args_number[:-1] + \"\"\")\"\"\"\n",
    "            cursor.execute(postgres_insert_query, values)\n",
    "            connection.commit()\n",
    "            count = cursor.rowcount\n",
    "            print (count, \"Record inserted successfully into table\")\n",
    "\n",
    "    except (Exception, psycopg2.Error) as error :\n",
    "        print (\"Error while connecting to PostgreSQL\", error)\n",
    "    finally:\n",
    "        #closing database connection.           \n",
    "            if(connection):        \n",
    "                cursor.close()\n",
    "                connection.close()\n",
    "                print(\"PostgreSQL connection is closed\")"
   ]
  },
  {
   "cell_type": "code",
   "execution_count": 6,
   "metadata": {},
   "outputs": [
    {
     "name": "stdout",
     "output_type": "stream",
     "text": [
      "1 Record inserted successfully into table\n",
      "PostgreSQL connection is closed\n"
     ]
    }
   ],
   "source": [
    "table_name='test1'\n",
    "dictionary={'Sample':'one', 'Another': 'sample'}\n",
    "create_table_from_dict(table_name, dictionary)"
   ]
  },
  {
   "cell_type": "code",
   "execution_count": null,
   "metadata": {},
   "outputs": [],
   "source": []
  }
 ],
 "metadata": {
  "kernelspec": {
   "display_name": "Python 3",
   "language": "python",
   "name": "python3"
  },
  "language_info": {
   "codemirror_mode": {
    "name": "ipython",
    "version": 3
   },
   "file_extension": ".py",
   "mimetype": "text/x-python",
   "name": "python",
   "nbconvert_exporter": "python",
   "pygments_lexer": "ipython3",
   "version": "3.6.8"
  }
 },
 "nbformat": 4,
 "nbformat_minor": 2
}
